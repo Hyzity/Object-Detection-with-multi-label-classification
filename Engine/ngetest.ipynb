{
 "cells": [
  {
   "cell_type": "code",
   "execution_count": 3,
   "metadata": {},
   "outputs": [
    {
     "name": "stdout",
     "output_type": "stream",
     "text": [
      "[WinError 2] The system cannot find the file specified: './yolov5/'\n",
      "c:\\Users\\noelt\\Documents\\GitHub\\Object-Detection-with-multi-label\\yolov5\n"
     ]
    },
    {
     "name": "stderr",
     "output_type": "stream",
     "text": [
      "\u001b[34m\u001b[1mdetect: \u001b[0mweights=['C:\\\\Users\\\\noelt\\\\Documents\\\\GitHub\\\\Object-Detection-with-multi-label\\\\yolov5\\\\runs\\\\train\\\\yolov5s_results\\\\weights\\\\best.pt'], source=C:\\Users\\noelt\\Downloads\\e6951955785e896859feadacd94e8715.jpg, data=data\\coco128.yaml, imgsz=[640, 640], conf_thres=0.35, iou_thres=0.45, max_det=1000, device=, view_img=False, save_txt=False, save_format=0, save_csv=False, save_conf=False, save_crop=False, nosave=False, classes=None, agnostic_nms=False, augment=False, visualize=False, update=False, project=runs\\detect, name=exp, exist_ok=False, line_thickness=3, hide_labels=False, hide_conf=False, half=False, dnn=False, vid_stride=1\n",
      "YOLOv5  v7.0-388-g882c35fc Python-3.12.4 torch-2.5.1+cu121 CUDA:0 (NVIDIA GeForce RTX 3050 Laptop GPU, 4096MiB)\n",
      "\n",
      "Traceback (most recent call last):\n",
      "  File \"c:\\Users\\noelt\\Documents\\GitHub\\Object-Detection-with-multi-label\\yolov5\\detect.py\", line 437, in <module>\n",
      "    main(opt)\n",
      "  File \"c:\\Users\\noelt\\Documents\\GitHub\\Object-Detection-with-multi-label\\yolov5\\detect.py\", line 432, in main\n",
      "    run(**vars(opt))\n",
      "  File \"c:\\Users\\noelt\\anaconda3\\Lib\\site-packages\\torch\\utils\\_contextlib.py\", line 116, in decorate_context\n",
      "    return func(*args, **kwargs)\n",
      "           ^^^^^^^^^^^^^^^^^^^^^\n",
      "  File \"c:\\Users\\noelt\\Documents\\GitHub\\Object-Detection-with-multi-label\\yolov5\\detect.py\", line 166, in run\n",
      "    model = DetectMultiBackend(weights, device=device, dnn=dnn, data=data, fp16=half)\n",
      "            ^^^^^^^^^^^^^^^^^^^^^^^^^^^^^^^^^^^^^^^^^^^^^^^^^^^^^^^^^^^^^^^^^^^^^^^^^\n",
      "  File \"c:\\Users\\noelt\\Documents\\GitHub\\Object-Detection-with-multi-label\\yolov5\\models\\common.py\", line 489, in __init__\n",
      "    model = attempt_load(weights if isinstance(weights, list) else w, device=device, inplace=True, fuse=fuse)\n",
      "            ^^^^^^^^^^^^^^^^^^^^^^^^^^^^^^^^^^^^^^^^^^^^^^^^^^^^^^^^^^^^^^^^^^^^^^^^^^^^^^^^^^^^^^^^^^^^^^^^^\n",
      "  File \"c:\\Users\\noelt\\Documents\\GitHub\\Object-Detection-with-multi-label\\yolov5\\models\\experimental.py\", line 98, in attempt_load\n",
      "    ckpt = torch.load(attempt_download(w), map_location=\"cpu\")  # load\n",
      "           ^^^^^^^^^^^^^^^^^^^^^^^^^^^^^^^^^^^^^^^^^^^^^^^^^^^\n",
      "  File \"c:\\Users\\noelt\\anaconda3\\Lib\\site-packages\\ultralytics\\utils\\patches.py\", line 86, in torch_load\n",
      "    return _torch_load(*args, **kwargs)\n",
      "           ^^^^^^^^^^^^^^^^^^^^^^^^^^^^\n",
      "  File \"c:\\Users\\noelt\\anaconda3\\Lib\\site-packages\\torch\\serialization.py\", line 1360, in load\n",
      "    return _load(\n",
      "           ^^^^^^\n",
      "  File \"c:\\Users\\noelt\\anaconda3\\Lib\\site-packages\\torch\\serialization.py\", line 1848, in _load\n",
      "    result = unpickler.load()\n",
      "             ^^^^^^^^^^^^^^^^\n",
      "  File \"c:\\Users\\noelt\\anaconda3\\Lib\\pathlib.py\", line 1422, in __new__\n",
      "    raise NotImplementedError(\n",
      "NotImplementedError: cannot instantiate 'PosixPath' on your system\n"
     ]
    }
   ],
   "source": [
    "%cd ./yolov5/\n",
    "!python detect.py --weights C:\\Users\\noelt\\Documents\\GitHub\\Object-Detection-with-multi-label\\yolov5\\runs\\train\\yolov5s_results\\weights\\best.pt --img 640 --conf 0.35 --source \"C:\\Users\\noelt\\Downloads\\e6951955785e896859feadacd94e8715.jpg\""
   ]
  }
 ],
 "metadata": {
  "kernelspec": {
   "display_name": "base",
   "language": "python",
   "name": "python3"
  },
  "language_info": {
   "codemirror_mode": {
    "name": "ipython",
    "version": 3
   },
   "file_extension": ".py",
   "mimetype": "text/x-python",
   "name": "python",
   "nbconvert_exporter": "python",
   "pygments_lexer": "ipython3",
   "version": "3.12.4"
  }
 },
 "nbformat": 4,
 "nbformat_minor": 2
}
